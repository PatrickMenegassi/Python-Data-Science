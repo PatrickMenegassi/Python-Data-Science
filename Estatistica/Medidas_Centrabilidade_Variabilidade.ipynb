{
 "cells": [
  {
   "cell_type": "code",
   "execution_count": null,
   "id": "003e7abd-5d46-427a-b11b-34a2d6eea5e1",
   "metadata": {},
   "outputs": [],
   "source": [
    "# Medidas de Centrabilidade e Variabilidade"
   ]
  },
  {
   "cell_type": "code",
   "execution_count": 3,
   "id": "3027d81b-1e4e-4ece-84db-74aea37cf240",
   "metadata": {},
   "outputs": [],
   "source": [
    "import numpy as np\n",
    "from scipy import stats"
   ]
  },
  {
   "cell_type": "code",
   "execution_count": 5,
   "id": "cb1dc3c7-78fb-4d35-8ecf-c04c48a50e95",
   "metadata": {},
   "outputs": [
    {
     "data": {
      "text/plain": [
       "181111.11111111112"
      ]
     },
     "execution_count": 5,
     "metadata": {},
     "output_type": "execute_result"
    }
   ],
   "source": [
    "jogadores = [40000, 18000, 12000, 250000, 30000, 140000, 300000, 40000, 800000]\n",
    "np.mean(jogadores) # Media"
   ]
  },
  {
   "cell_type": "code",
   "execution_count": 7,
   "id": "70d195da-fbf9-4cc0-aca3-e42800f97718",
   "metadata": {},
   "outputs": [
    {
     "data": {
      "text/plain": [
       "40000.0"
      ]
     },
     "execution_count": 7,
     "metadata": {},
     "output_type": "execute_result"
    }
   ],
   "source": [
    "np.median(jogadores) # Mediana"
   ]
  },
  {
   "cell_type": "code",
   "execution_count": 11,
   "id": "0d04ff09-f928-437f-b948-7b7742fc13f2",
   "metadata": {},
   "outputs": [
    {
     "data": {
      "text/plain": [
       "array([ 12000.,  30000.,  40000., 250000., 800000.])"
      ]
     },
     "execution_count": 11,
     "metadata": {},
     "output_type": "execute_result"
    }
   ],
   "source": [
    "# Criação da variavel para geração dos quartis (0%, 25%, 50%, 75% e 100%)\n",
    "quartis = np.quantile(jogadores, [0, 0.25, 0.50, 0.75, 1])\n",
    "quartis"
   ]
  },
  {
   "cell_type": "code",
   "execution_count": 13,
   "id": "27d53774-dee7-4030-ae0b-e6481d102c33",
   "metadata": {},
   "outputs": [
    {
     "data": {
      "text/plain": [
       "255307.87514511007"
      ]
     },
     "execution_count": 13,
     "metadata": {},
     "output_type": "execute_result"
    }
   ],
   "source": [
    "# Visualização do desvio padrão\n",
    "np.std(jogadores, ddof = 1)"
   ]
  },
  {
   "cell_type": "code",
   "execution_count": 17,
   "id": "9b244fac-c54d-47c5-b739-70406baa0a79",
   "metadata": {},
   "outputs": [
    {
     "data": {
      "text/plain": [
       "DescribeResult(nobs=9, minmax=(12000, 800000), mean=181111.11111111112, variance=65182111111.11111, skewness=1.758635899846188, kurtosis=1.9572075427527729)"
      ]
     },
     "execution_count": 17,
     "metadata": {},
     "output_type": "execute_result"
    }
   ],
   "source": [
    "# Visualização de estatisticas mais detalhadas usando a biblioteca scipy\n",
    "stats.describe(jogadores)"
   ]
  }
 ],
 "metadata": {
  "kernelspec": {
   "display_name": "Python [conda env:base] *",
   "language": "python",
   "name": "conda-base-py"
  },
  "language_info": {
   "codemirror_mode": {
    "name": "ipython",
    "version": 3
   },
   "file_extension": ".py",
   "mimetype": "text/x-python",
   "name": "python",
   "nbconvert_exporter": "python",
   "pygments_lexer": "ipython3",
   "version": "3.12.7"
  }
 },
 "nbformat": 4,
 "nbformat_minor": 5
}
