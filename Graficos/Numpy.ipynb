{
 "cells": [
  {
   "cell_type": "code",
   "execution_count": 5,
   "id": "808c9d88-a256-4e34-b448-75debb4c23c3",
   "metadata": {},
   "outputs": [],
   "source": [
    "import numpy as np"
   ]
  },
  {
   "cell_type": "code",
   "execution_count": 7,
   "id": "871af728-ab7b-4cf7-ae44-6b2960db059e",
   "metadata": {},
   "outputs": [
    {
     "name": "stdout",
     "output_type": "stream",
     "text": [
      "[12 34 26 18 10]\n",
      "<class 'numpy.ndarray'>\n"
     ]
    }
   ],
   "source": [
    "mt = np.array ([12,34,26,18,10])\n",
    "print(mt)\n",
    "print(type(mt))"
   ]
  },
  {
   "cell_type": "code",
   "execution_count": 9,
   "id": "9ca5ab51-506c-4fc1-9fd3-648528d01c6d",
   "metadata": {},
   "outputs": [
    {
     "name": "stdout",
     "output_type": "stream",
     "text": [
      "[1. 2. 3.]\n",
      "<class 'numpy.ndarray'>\n",
      "[1 2 3]\n",
      "<class 'numpy.ndarray'>\n"
     ]
    }
   ],
   "source": [
    "# Cria o array com um tipo específico\n",
    "# Cria o array como float de 64 bits\n",
    "\n",
    "mtfloat = np.array([1,2,3], dtype = np.float64)\n",
    "print(mtfloat)\n",
    "print(type(mtfloat))\n",
    "\n",
    "mint = np.array([1,2,3], dtype = np.int32)\n",
    "print(mint)\n",
    "print(type(mint))"
   ]
  },
  {
   "cell_type": "code",
   "execution_count": 11,
   "id": "19e5642c-760e-4f12-9b56-653000b97d39",
   "metadata": {},
   "outputs": [
    {
     "name": "stdout",
     "output_type": "stream",
     "text": [
      "[ 1.4      3.6     -5.1      9.42     4.99999]\n",
      "[ 1  3 -5  9  4]\n"
     ]
    }
   ],
   "source": [
    "# muda tipo do array\n",
    "# Podemos transformar tipos de dados de arrays\n",
    "\n",
    "mtnew = np.array([1.4, 3.6, -5.1, 9.42, 4.99999])\n",
    "print(mtnew)\n",
    "\n",
    "# quando transformamos de float para int os valores são truncados\n",
    "mtnewint = mtnew.astype(np.int32)\n",
    "print(mtnewint)"
   ]
  },
  {
   "cell_type": "code",
   "execution_count": 21,
   "id": "6b5076e7-fa68-4c2d-9d06-ebe4803358ac",
   "metadata": {},
   "outputs": [
    {
     "name": "stdout",
     "output_type": "stream",
     "text": [
      "[[         0 1072693248]\n",
      " [         0 1073741824]\n",
      " [         0 1074266112]]\n",
      "------\n",
      "[[0. 0. 0.]\n",
      " [0. 0. 0.]\n",
      " [0. 0. 0.]\n",
      " [0. 0. 0.]]\n",
      "------\n",
      "[[1. 1. 1. 1. 1. 1. 1.]\n",
      " [1. 1. 1. 1. 1. 1. 1.]\n",
      " [1. 1. 1. 1. 1. 1. 1.]\n",
      " [1. 1. 1. 1. 1. 1. 1.]\n",
      " [1. 1. 1. 1. 1. 1. 1.]]\n",
      "-------\n",
      "[[1. 0. 0. 0. 0.]\n",
      " [0. 1. 0. 0. 0.]\n",
      " [0. 0. 1. 0. 0.]\n",
      " [0. 0. 0. 1. 0.]\n",
      " [0. 0. 0. 0. 1.]]\n"
     ]
    }
   ],
   "source": [
    "# Criar arrays vazios tipificados\n",
    "# Empty significa que não são inicializados, não que são vazios\n",
    "\n",
    "vazio = np.empty([3,2], dtype = int)\n",
    "print(vazio)\n",
    "print(\"------\")\n",
    "\n",
    "# Cria uma maatriz 4x3 com valores zero\n",
    "zeros = np.zeros([4,3])\n",
    "print(zeros)\n",
    "print(\"------\")\n",
    "\n",
    "# Cria com valores igual a um\n",
    "um = np.ones([5,7])\n",
    "print(um)\n",
    "print(\"-------\")\n",
    "\n",
    "# Cria uma matriz quadrada com diagonal principal com valores 1 e os outros valores 0\n",
    "diagonal = np.eye(5)\n",
    "print(diagonal)"
   ]
  },
  {
   "cell_type": "code",
   "execution_count": 27,
   "id": "7f5f860c-d001-4105-9c54-db5df7a68d54",
   "metadata": {},
   "outputs": [
    {
     "name": "stdout",
     "output_type": "stream",
     "text": [
      "[0.10331774 0.04539649 0.48528515 0.03207046 0.60841829]\n",
      "-------\n",
      "[ 0.38844803  0.53763073 -1.18781802  0.50259605 -0.57606647]\n",
      "-------\n",
      "[[3.15733592 9.14132306 3.61597353 3.55603492]\n",
      " [9.68113027 1.20688263 8.42277908 5.93366012]\n",
      " [4.96079392 0.9298435  1.53218455 4.19343885]]\n"
     ]
    }
   ],
   "source": [
    "# Valores aleatórios entre zero e um \n",
    "ale = np.random.random((5))\n",
    "print(ale)\n",
    "print(\"-------\")\n",
    "\n",
    "# Valors aleatórios distr. normal contedno negativos\n",
    "ale2 = np.random.randn((5))\n",
    "print(ale2)\n",
    "print(\"-------\")\n",
    "\n",
    "# Valores aleatórios 3 x 4\n",
    "ale3 = (10*np.random.random((3,4)))\n",
    "print(ale3)"
   ]
  },
  {
   "cell_type": "code",
   "execution_count": 31,
   "id": "17e824f4-79d5-4ecd-ba84-489ac3959c8f",
   "metadata": {},
   "outputs": [
    {
     "name": "stdout",
     "output_type": "stream",
     "text": [
      "[[8 9 2 3]\n",
      " [8 4 2 8]\n",
      " [2 4 6 5]]\n"
     ]
    }
   ],
   "source": [
    "# Outra forma de gerar aleatórios\n",
    "# Uso de semente\n",
    "\n",
    "gnr = np.random.default_rng(1)\n",
    "ale5 = gnr.random(3)\n",
    "\n",
    "# Gerar inteiros\n",
    "ale6 = gnr.integers(10, size=(3,4))\n",
    "print(ale6)"
   ]
  },
  {
   "cell_type": "code",
   "execution_count": 33,
   "id": "602c5eb7-9637-453f-8a30-440eeac51396",
   "metadata": {},
   "outputs": [
    {
     "name": "stdout",
     "output_type": "stream",
     "text": [
      "[11 12 13 14 15 16 17 18 19 20]\n"
     ]
    }
   ],
   "source": [
    "# Unique remove repetições\n",
    "j = np.array([11, 12, 13, 14, 15, 16, 17, 12, 13, 11, 18, 19, 20])\n",
    "j = np.unique(j)\n",
    "print(j)"
   ]
  },
  {
   "cell_type": "code",
   "execution_count": 37,
   "id": "273ab156-e93d-45b1-b110-5ae564c946d6",
   "metadata": {},
   "outputs": [
    {
     "name": "stdout",
     "output_type": "stream",
     "text": [
      "[[ 0  1  2  3  4]\n",
      " [ 5  6  7  8  9]\n",
      " [10 11 12 13 14]]\n",
      "-------\n",
      "[[ 0  5 10]\n",
      " [ 1  6 11]\n",
      " [ 2  7 12]\n",
      " [ 3  8 13]\n",
      " [ 4  9 14]]\n"
     ]
    }
   ],
   "source": [
    "# Transposição, rearranja um conjunto de 15 elementos de 0 a 14\n",
    "# em 3 linhas e 5 colunas\n",
    "f = np.arange(15).reshape((3,5))\n",
    "# Mostra a matriz transposta entre linha e coluna\n",
    "print(f)\n",
    "print(\"-------\")\n",
    "s = f.T\n",
    "print(s)"
   ]
  },
  {
   "cell_type": "code",
   "execution_count": null,
   "id": "b250966e-1037-459e-844e-05b07194e68a",
   "metadata": {},
   "outputs": [],
   "source": []
  }
 ],
 "metadata": {
  "kernelspec": {
   "display_name": "Python [conda env:base] *",
   "language": "python",
   "name": "conda-base-py"
  },
  "language_info": {
   "codemirror_mode": {
    "name": "ipython",
    "version": 3
   },
   "file_extension": ".py",
   "mimetype": "text/x-python",
   "name": "python",
   "nbconvert_exporter": "python",
   "pygments_lexer": "ipython3",
   "version": "3.12.7"
  }
 },
 "nbformat": 4,
 "nbformat_minor": 5
}
